{
 "cells": [
  {
   "cell_type": "code",
   "execution_count": 2,
   "metadata": {},
   "outputs": [
    {
     "name": "stdout",
     "output_type": "stream",
     "text": [
      "기울기는 [[0.06788865]]\n",
      "y절편은 [59.60534414]\n"
     ]
    },
    {
     "data": {
      "image/png": "[encoded data removed]",
      "text/plain": [
       "<Figure size 432x288 with 1 Axes>"
      ]
     },
     "metadata": {
      "needs_background": "light"
     },
     "output_type": "display_data"
    }
   ],
   "source": [
    "#60181912 유성연\n",
    "#기계학습응용 과제 3주차\n",
    "\n",
    "import numpy as np\n",
    "import matplotlib.pyplot as plt\n",
    "from sklearn.linear_model import LinearRegression\n",
    "\n",
    "height_weight = np.loadtxt('heights.csv',delimiter=',')\n",
    "height_weight[:10,:]\n",
    "y = height_weight[:10,0:1]\n",
    "x = height_weight[:10,1:2]\n",
    "line_fit = LinearRegression()\n",
    "line_fit.fit(x,y)\n",
    "pred_y=line_fit.predict(x)\n",
    "\n",
    "print(\"기울기는\",line_fit.coef_) #기울기\n",
    "print(\"y절편은\",line_fit.intercept_) #절편\n",
    "plt.plot(x,y,'o')\n",
    "plt.plot(x,pred_y)\n",
    "plt.show()"
   ]
  },
  {
   "cell_type": "code",
   "execution_count": null,
   "metadata": {},
   "outputs": [],
   "source": []
  }
 ],
 "metadata": {
  "kernelspec": {
   "display_name": "Python 3",
   "language": "python",
   "name": "python3"
  },
  "language_info": {
   "codemirror_mode": {
    "name": "ipython",
    "version": 3
   },
   "file_extension": ".py",
   "mimetype": "text/x-python",
   "name": "python",
   "nbconvert_exporter": "python",
   "pygments_lexer": "ipython3",
   "version": "3.8.3"
  }
 },
 "nbformat": 4,
 "nbformat_minor": 4
}
